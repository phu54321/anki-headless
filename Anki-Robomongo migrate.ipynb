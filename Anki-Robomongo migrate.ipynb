{
 "cells": [
  {
   "cell_type": "code",
   "execution_count": 1,
   "metadata": {},
   "outputs": [],
   "source": [
    "# Configuration\n",
    "dbname = 'test'"
   ]
  },
  {
   "cell_type": "code",
   "execution_count": 2,
   "metadata": {},
   "outputs": [],
   "source": [
    "from tqdm import tqdm_notebook as tqdm\n",
    "from pymongo import MongoClient\n",
    "client = MongoClient()"
   ]
  },
  {
   "cell_type": "code",
   "execution_count": 9,
   "metadata": {},
   "outputs": [],
   "source": [
    "client.drop_database(dbname)\n",
    "db = client[dbname]"
   ]
  },
  {
   "cell_type": "code",
   "execution_count": 4,
   "metadata": {},
   "outputs": [],
   "source": [
    "from anki import Collection\n",
    "col = Collection('testdata/collection.anki2', log=True)"
   ]
  },
  {
   "cell_type": "code",
   "execution_count": 10,
   "metadata": {
    "scrolled": true
   },
   "outputs": [],
   "source": [
    "for k, v in col.models.models.items():\n",
    "    model = {\n",
    "        '_id': v['id'],\n",
    "        'name': v['name'],\n",
    "        'fields': [\n",
    "            {\n",
    "                'name': fld['name'],\n",
    "                'sticky': fld['sticky']\n",
    "            } for fld in v['flds']\n",
    "        ],\n",
    "        'modTime': v['mod'],\n",
    "        'templates': [\n",
    "            {\n",
    "                'frontFormat': tmpl['qfmt'],\n",
    "                'answerFormat': tmpl['afmt'],\n",
    "                'name': tmpl['name']\n",
    "            } for tmpl in v['tmpls']\n",
    "        ],\n",
    "        'modelType': {\n",
    "            0: 'basic',\n",
    "            1: 'cloze',\n",
    "        }[v['type']]\n",
    "    }\n",
    "    db.models.insert_one(model)"
   ]
  },
  {
   "cell_type": "code",
   "execution_count": 17,
   "metadata": {},
   "outputs": [
    {
     "data": {
      "text/plain": [
       "<pymongo.results.InsertManyResult at 0x10abd8548>"
      ]
     },
     "execution_count": 17,
     "metadata": {},
     "output_type": "execute_result"
    }
   ],
   "source": [
    "# Move revlog\n",
    "\n",
    "REVLOG_LEARN = 0\n",
    "REVLOG_REVIEW = 1\n",
    "REVLOG_RELEARN = 2\n",
    "REVLOG_CRAM = 3\n",
    "\n",
    "revEntryList = []\n",
    "for _id, cid, usn, ease, ivl, lastIvl, factor, time, _type in col.db.all(\"select * from revlog order by id desc\"):\n",
    "    revEntry = {\n",
    "        'createdAt': _id / 1000,\n",
    "        'card': cid,\n",
    "        'reviewType': {\n",
    "            0: REVLOG_LEARN,\n",
    "            1: REVLOG_REVIEW,\n",
    "            2: REVLOG_RELEARN,\n",
    "            3: REVLOG_CRAM\n",
    "        }[_type],\n",
    "        'reviewTime': time / 1000,\n",
    "        'response': ease\n",
    "    }\n",
    "    revEntryList.append(revEntry)\n",
    "    \n",
    "db.revlog.insert_many(revEntryList)"
   ]
  },
  {
   "cell_type": "code",
   "execution_count": 26,
   "metadata": {},
   "outputs": [
    {
     "data": {
      "text/plain": [
       "40500"
      ]
     },
     "execution_count": 26,
     "metadata": {},
     "output_type": "execute_result"
    }
   ],
   "source": [
    "rtl = [x['reviewType'] for x in revEntryList]\n",
    "rtl.count(1)"
   ]
  },
  {
   "cell_type": "code",
   "execution_count": 12,
   "metadata": {},
   "outputs": [
    {
     "data": {
      "application/vnd.jupyter.widget-view+json": {
       "model_id": "c0eb46e511834f0485c33d5132be2001",
       "version_major": 2,
       "version_minor": 0
      },
      "text/html": [
       "<p>Failed to display Jupyter Widget of type <code>HBox</code>.</p>\n",
       "<p>\n",
       "  If you're reading this message in the Jupyter Notebook or JupyterLab Notebook, it may mean\n",
       "  that the widgets JavaScript is still loading. If this message persists, it\n",
       "  likely means that the widgets JavaScript library is either not installed or\n",
       "  not enabled. See the <a href=\"https://ipywidgets.readthedocs.io/en/stable/user_install.html\">Jupyter\n",
       "  Widgets Documentation</a> for setup instructions.\n",
       "</p>\n",
       "<p>\n",
       "  If you're reading this message in another frontend (for example, a static\n",
       "  rendering on GitHub or <a href=\"https://nbviewer.jupyter.org/\">NBViewer</a>),\n",
       "  it may mean that your frontend doesn't currently support widgets.\n",
       "</p>\n"
      ],
      "text/plain": [
       "HBox(children=(IntProgress(value=0, max=14979), HTML(value='')))"
      ]
     },
     "metadata": {},
     "output_type": "display_data"
    },
    {
     "name": "stdout",
     "output_type": "stream",
     "text": [
      "\n"
     ]
    }
   ],
   "source": [
    "SCHED_NORMAL = 0\n",
    "SCHED_SUSPENDED = 1\n",
    "SCHED_BURIED = 2\n",
    "\n",
    "for nid in tqdm(col.findNotes(\"*\")):\n",
    "    note = col.getNote(nid)\n",
    "    noteEntry = {\n",
    "        '_id': note.id,\n",
    "        'model': note.mid,\n",
    "        'fields': note.fields,\n",
    "        'tags': note.tags,\n",
    "        'createdAt': note.id // 1000,\n",
    "        'updatedAt': note.mod,\n",
    "        'cards': []\n",
    "    }\n",
    "        \n",
    "    for card in note.cards():\n",
    "        db.cards.insert_one({\n",
    "            '_id': card.id,\n",
    "            'note': card.nid,\n",
    "            'deck': card.did,\n",
    "            'noteCardIndex': card.mod,\n",
    "            'schedState': {\n",
    "                -3: SCHED_BURIED,\n",
    "                -2: SCHED_BURIED,\n",
    "                -1: SCHED_SUSPENDED,\n",
    "                0: SCHED_NORMAL,\n",
    "                1: SCHED_NORMAL,\n",
    "                2: SCHED_NORMAL,\n",
    "                3: SCHED_NORMAL,\n",
    "            }[card.queue]\n",
    "        })\n",
    "        noteEntry['cards'].append(card.id)\n",
    "        \n",
    "    db.notes.insert_one(noteEntry)\n"
   ]
  },
  {
   "cell_type": "code",
   "execution_count": null,
   "metadata": {},
   "outputs": [],
   "source": []
  }
 ],
 "metadata": {
  "kernelspec": {
   "display_name": "Python 3",
   "language": "python",
   "name": "python3"
  },
  "language_info": {
   "codemirror_mode": {
    "name": "ipython",
    "version": 3
   },
   "file_extension": ".py",
   "mimetype": "text/x-python",
   "name": "python",
   "nbconvert_exporter": "python",
   "pygments_lexer": "ipython3",
   "version": "3.6.4"
  }
 },
 "nbformat": 4,
 "nbformat_minor": 2
}
