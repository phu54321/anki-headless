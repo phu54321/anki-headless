{
 "cells": [
  {
   "cell_type": "code",
   "execution_count": 1,
   "metadata": {},
   "outputs": [],
   "source": [
    "from anki import Collection"
   ]
  },
  {
   "cell_type": "code",
   "execution_count": 5,
   "metadata": {},
   "outputs": [],
   "source": [
    "col = Collection('testdata/collection.anki2', log=True)"
   ]
  },
  {
   "cell_type": "code",
   "execution_count": 10,
   "metadata": {},
   "outputs": [],
   "source": [
    "import inspect"
   ]
  },
  {
   "cell_type": "code",
   "execution_count": 24,
   "metadata": {},
   "outputs": [],
   "source": [
    "import types"
   ]
  },
  {
   "cell_type": "markdown",
   "metadata": {},
   "source": [
    "Get list of available methods"
   ]
  },
  {
   "cell_type": "code",
   "execution_count": 35,
   "metadata": {},
   "outputs": [
    {
     "name": "stdout",
     "output_type": "stream",
     "text": [
      "List of methods of 'col'\n",
      "\n",
      "addNote\n",
      "autosave\n",
      "basicCheck\n",
      "beforeUpload\n",
      "cardCount\n",
      "cardStats\n",
      "changeSchedulerVer\n",
      "clearUndo\n",
      "close\n",
      "emptyCardReport\n",
      "emptyCids\n",
      "findCards\n",
      "findDupes\n",
      "findNotes\n",
      "findReplace\n",
      "findTemplates\n",
      "fixIntegrity\n",
      "flush\n",
      "genCards\n",
      "getCard\n",
      "getNote\n",
      "isEmpty\n",
      "load\n",
      "lock\n",
      "log\n",
      "markReview\n",
      "modSchema\n",
      "name\n",
      "newNote\n",
      "nextID\n",
      "noteCount\n",
      "optimize\n",
      "previewCards\n",
      "remCards\n",
      "remNotes\n",
      "renderQA\n",
      "reopen\n",
      "reset\n",
      "rollback\n",
      "save\n",
      "schedVer\n",
      "schemaChanged\n",
      "setMod\n",
      "setUserFlag\n",
      "startTimebox\n",
      "stats\n",
      "timeboxReached\n",
      "undo\n",
      "undoName\n",
      "updateFieldCache\n",
      "usn\n",
      "\n",
      "List of methods of 'col.sched'\n",
      "\n",
      "answerButtons\n",
      "answerCard\n",
      "buryCards\n",
      "buryNote\n",
      "countIdx\n",
      "counts\n",
      "deckDueList\n",
      "deckDueTree\n",
      "dueForecast\n",
      "emptyDyn\n",
      "extendLimits\n",
      "finishedMsg\n",
      "forgetCards\n",
      "getCard\n",
      "haveBuried\n",
      "maybeRandomizeDeck\n",
      "newDue\n",
      "nextIvl\n",
      "nextIvlStr\n",
      "orderCards\n",
      "randomizeCards\n",
      "rebuildDyn\n",
      "remFromDyn\n",
      "removeLrn\n",
      "reschedCards\n",
      "reset\n",
      "resetCards\n",
      "resortConf\n",
      "revDue\n",
      "sortCards\n",
      "suspendCards\n",
      "totalNewForCurrentDeck\n",
      "totalRevForCurrentDeck\n",
      "unburyCards\n",
      "unburyCardsForDeck\n",
      "unsuspendCards\n",
      "\n"
     ]
    }
   ],
   "source": [
    "def dumpMethods(xs, x):\n",
    "    print('List of methods of \\'%s\\'\\n' % xs)\n",
    "    xType = type(x)\n",
    "    methodList = sorted(xType.__dict__.keys())\n",
    "    for name in [\n",
    "        name for name in methodList if\n",
    "            (not name.startswith('_') and\n",
    "             isinstance(getattr(x, name), types.MethodType)\n",
    "            )\n",
    "    ]:\n",
    "        print(name)\n",
    "\n",
    "    print('')\n",
    "\n",
    "dumpMethods('col', col)\n",
    "dumpMethods('col.sched', col.sched)\n"
   ]
  },
  {
   "cell_type": "code",
   "execution_count": 18,
   "metadata": {},
   "outputs": [
    {
     "data": {
      "text/plain": [
       "(('1학년',\n",
       "  1519057972418,\n",
       "  1200,\n",
       "  180,\n",
       "  1019,\n",
       "  (('2분기', 1498969546840, 1000, 3, 542, ()),\n",
       "   ('3분기', 1503237558711, 1000, 64, 331, ()),\n",
       "   ('4분기',\n",
       "    1510830434848,\n",
       "    1200,\n",
       "    113,\n",
       "    146,\n",
       "    (('기생충학', 1514217851998, 445, 62, 0, ()),\n",
       "     ('기종평', 1512949741235, 0, 0, 0, ()),\n",
       "     ('땡시', 1511517320014, 136, 0, 0, ()),\n",
       "     ('미생물학', 1513429622072, 709, 24, 0, ()),\n",
       "     ('임상면역학', 1510904510132, 888, 9, 1, ()))))),\n",
       " ('2학년',\n",
       "  1519318064620,\n",
       "  800,\n",
       "  20,\n",
       "  4,\n",
       "  (('2학년_시험침', 1525142975092, 800, 20, 0, ()),)),\n",
       " ('Default', 1, 0, 0, 10, ()))"
      ]
     },
     "execution_count": 18,
     "metadata": {},
     "output_type": "execute_result"
    }
   ],
   "source": [
    "col.sched.deckDueTree()"
   ]
  },
  {
   "cell_type": "code",
   "execution_count": null,
   "metadata": {},
   "outputs": [],
   "source": []
  }
 ],
 "metadata": {
  "kernelspec": {
   "display_name": "Python 3",
   "language": "python",
   "name": "python3"
  },
  "language_info": {
   "codemirror_mode": {
    "name": "ipython",
    "version": 3
   },
   "file_extension": ".py",
   "mimetype": "text/x-python",
   "name": "python",
   "nbconvert_exporter": "python",
   "pygments_lexer": "ipython3",
   "version": "3.6.4"
  }
 },
 "nbformat": 4,
 "nbformat_minor": 2
}
